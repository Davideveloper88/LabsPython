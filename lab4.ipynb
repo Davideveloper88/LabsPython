{
 "cells": [
  {
   "cell_type": "markdown",
   "metadata": {},
   "source": [
    "David Guzman\n",
    "Laboratorio 4"
   ]
  },
  {
   "cell_type": "markdown",
   "metadata": {},
   "source": [
    "Parte 1 Numpy"
   ]
  },
  {
   "cell_type": "markdown",
   "metadata": {},
   "source": [
    " 1) ¿Cuál es el tamaño en bytes de un array de 1000\n",
    " "
   ]
  },
  {
   "cell_type": "code",
   "execution_count": 3,
   "metadata": {},
   "outputs": [],
   "source": [
    "\n",
    " import pandas as pd\n",
    " import numpy as np\n",
    " import matplotlib.pyplot as plt"
   ]
  },
  {
   "cell_type": "code",
   "execution_count": 3,
   "metadata": {},
   "outputs": [
    {
     "name": "stdout",
     "output_type": "stream",
     "text": [
      "1001\n"
     ]
    }
   ],
   "source": [
    "#Array 1000 Booleano\n",
    "\n",
    "array = np.random.choice([True, False], size=(1001, 1))\n",
    "\n",
    "#Tamaño en bytes del array\n",
    "\n",
    "tm = print(array.nbytes) \n",
    "\n",
    "\n"
   ]
  },
  {
   "cell_type": "markdown",
   "metadata": {},
   "source": [
    " 2) Cree un array cuyos elementos sean los enteros pares en [1,100] y en orden decreciente. Muestre los 10 últimos por pantalla."
   ]
  },
  {
   "cell_type": "code",
   "execution_count": 4,
   "metadata": {},
   "outputs": [
    {
     "name": "stdout",
     "output_type": "stream",
     "text": [
      "[198 196 194 192 190 188 186 184 182 180]\n"
     ]
    }
   ],
   "source": [
    "#Array de 100 entereos pares\n",
    "\n",
    "array2 = np.arange(0, 200, 2)\n",
    "\n",
    "#Montrar los ultimos 10 elementos ordenados descendentemente\n",
    "\n",
    "print(array2[-10:][::-1])\n",
    "\n",
    "\n"
   ]
  },
  {
   "cell_type": "markdown",
   "metadata": {},
   "source": [
    " 3) Dado el array\n",
    " 2 4 5 6 \n",
    " 0 3 7 4 \n",
    " 8 8 5 2 \n",
    " 1 5 6 1\n",
    "\n",
    "A) Seleccione con una instrucción el subarray de elementos 0374\n",
    "B) Después, seleccione el subarray de elementos\n",
    "    2 5 \n",
    "    8 5"
   ]
  },
  {
   "cell_type": "code",
   "execution_count": 5,
   "metadata": {},
   "outputs": [
    {
     "name": "stdout",
     "output_type": "stream",
     "text": [
      "[[2 4 5 6]\n",
      " [0 3 7 4]\n",
      " [8 8 5 2]\n",
      " [1 5 6 1]]\n"
     ]
    }
   ],
   "source": [
    "#Creacion de array\n",
    "\n",
    "array3 = np.array([[2,4,5,6],[0,3,7,4],[8,8,5,2],[1,5,6,1]])\n",
    "print(array3) \n",
    "\n",
    "\n",
    "\n"
   ]
  },
  {
   "cell_type": "code",
   "execution_count": 6,
   "metadata": {},
   "outputs": [
    {
     "name": "stdout",
     "output_type": "stream",
     "text": [
      "[0 3 7 4]\n"
     ]
    }
   ],
   "source": [
    "#Seleccionar 0 3 7 4\n",
    "\n",
    "print(array3[1,0:])"
   ]
  },
  {
   "cell_type": "code",
   "execution_count": 7,
   "metadata": {},
   "outputs": [
    {
     "name": "stdout",
     "output_type": "stream",
     "text": [
      "[[2 5]\n",
      " [8 5]]\n"
     ]
    }
   ],
   "source": [
    "#Seleccion el subarray [2,5] [8,5]  \n",
    "\n",
    "#print(array3[0,0], array3[0,2], array3[2,0], array3[2,2])\n",
    "\n",
    "newArray = np.array([[2,5],[8,5]])\n",
    "print(newArray)"
   ]
  },
  {
   "cell_type": "markdown",
   "metadata": {},
   "source": [
    " 4)Dados los arrays a = [1, 4, 2, 7] y b = [1, 3, 2, 9], obtenga la media aritmética de la diferencia (a-b)."
   ]
  },
  {
   "cell_type": "code",
   "execution_count": 8,
   "metadata": {},
   "outputs": [
    {
     "name": "stdout",
     "output_type": "stream",
     "text": [
      "-0.25\n"
     ]
    }
   ],
   "source": [
    "a = np.array   ([1,4,2,7])\n",
    "\n",
    "b = np.array   ([1,3,2,9])\n",
    "\n",
    "#media aritmetica de la diferencia de los arrays (a-b)\n",
    "\n",
    "print(np.mean(a-b))"
   ]
  },
  {
   "cell_type": "markdown",
   "metadata": {},
   "source": [
    "5) Valores coordenadas X Y\n",
    "   1.33 4.5\n",
    "   30.0 10.7\n",
    "   70.2 0.5\n",
    " del array\n",
    "Agregue a este array las coordenadas (37.1, -3.6).\n",
    "Muestre en pantalla las dimensiones del nuevo"
   ]
  },
  {
   "cell_type": "code",
   "execution_count": 9,
   "metadata": {},
   "outputs": [
    {
     "name": "stdout",
     "output_type": "stream",
     "text": [
      "[[ 1.33  4.5 ]\n",
      " [30.   10.7 ]\n",
      " [70.2   0.5 ]\n",
      " [37.1  -3.6 ]]\n"
     ]
    }
   ],
   "source": [
    "coordenadas = np.array([[1.33,4.5],[30.0,10.7],[70.2,0.5]]) \n",
    "coordenadas\n",
    "\n",
    "#Agrega coordenadas (37.1, -3.6)\n",
    "\n",
    "coordenadas = np.append(coordenadas, [[37.1, -3.6]], axis=0)\n",
    "print(coordenadas)"
   ]
  },
  {
   "cell_type": "markdown",
   "metadata": {},
   "source": [
    "6) Copie el array del ejercicio anterior. Traspóngalo (. Agregue ahora dos nuevos pares de coordenadas: (10.8, 3.0) y (35.8, 12.0)"
   ]
  },
  {
   "cell_type": "code",
   "execution_count": 10,
   "metadata": {},
   "outputs": [
    {
     "name": "stdout",
     "output_type": "stream",
     "text": [
      "[[ 1.33 30.   70.2  37.1 ]\n",
      " [ 4.5  10.7   0.5  -3.6 ]]\n"
     ]
    }
   ],
   "source": [
    "#transponer array\n",
    "transpuesto = np.transpose(coordenadas)\n",
    "print(transpuesto)"
   ]
  },
  {
   "cell_type": "markdown",
   "metadata": {},
   "source": [
    "6) Copie el array del ejercicio anterior. Traspóngalo (. Agregue ahora dos nuevos pares de coordenadas: (10.8, 3.0) y (35.8, 12.0)."
   ]
  },
  {
   "cell_type": "code",
   "execution_count": 11,
   "metadata": {},
   "outputs": [
    {
     "name": "stdout",
     "output_type": "stream",
     "text": [
      "[[ 1.33  4.5 ]\n",
      " [30.   10.7 ]\n",
      " [70.2   0.5 ]\n",
      " [37.1  -3.6 ]\n",
      " [10.8   3.  ]\n",
      " [35.8  12.  ]]\n"
     ]
    }
   ],
   "source": [
    "# Agregue ahora dos nuevos pares de coordenadas: (10.8, 3.0) y (35.8, 12.0).\n",
    "transpuesto = np.transpose(transpuesto)\n",
    "\n",
    "\n",
    "transpuesto = np.append(transpuesto, [[10.8, 3.0], [35.8, 12.0]], axis=0)\n",
    "print(transpuesto)"
   ]
  },
  {
   "cell_type": "markdown",
   "metadata": {},
   "source": [
    "Parte 2: Exploración y Minería de Datos:"
   ]
  },
  {
   "cell_type": "markdown",
   "metadata": {},
   "source": [
    "Con el dataset nucleospoblacion.csv adjunto al laboratorio, luego responda las siguientes preguntas usando pandas y matplotlib."
   ]
  },
  {
   "cell_type": "code",
   "execution_count": 23,
   "metadata": {},
   "outputs": [
    {
     "data": {
      "text/html": [
       "<div>\n",
       "<style scoped>\n",
       "    .dataframe tbody tr th:only-of-type {\n",
       "        vertical-align: middle;\n",
       "    }\n",
       "\n",
       "    .dataframe tbody tr th {\n",
       "        vertical-align: top;\n",
       "    }\n",
       "\n",
       "    .dataframe thead th {\n",
       "        text-align: right;\n",
       "    }\n",
       "</style>\n",
       "<table border=\"1\" class=\"dataframe\">\n",
       "  <thead>\n",
       "    <tr style=\"text-align: right;\">\n",
       "      <th></th>\n",
       "      <th>FID</th>\n",
       "      <th>OBJECTID</th>\n",
       "      <th>Texto</th>\n",
       "      <th>Poblacion</th>\n",
       "      <th>CodMun</th>\n",
       "      <th>Municipio</th>\n",
       "      <th>CodProvin</th>\n",
       "      <th>Provincia</th>\n",
       "      <th>X</th>\n",
       "      <th>Y</th>\n",
       "    </tr>\n",
       "  </thead>\n",
       "  <tbody>\n",
       "    <tr>\n",
       "      <th>0</th>\n",
       "      <td>0</td>\n",
       "      <td>1</td>\n",
       "      <td>Agüimes</td>\n",
       "      <td>29431.0</td>\n",
       "      <td>35002</td>\n",
       "      <td>Agüimes</td>\n",
       "      <td>35</td>\n",
       "      <td>Las Palmas</td>\n",
       "      <td>-15.446012</td>\n",
       "      <td>27.900542</td>\n",
       "    </tr>\n",
       "    <tr>\n",
       "      <th>1</th>\n",
       "      <td>1</td>\n",
       "      <td>2</td>\n",
       "      <td>Antigua</td>\n",
       "      <td>10458.0</td>\n",
       "      <td>35003</td>\n",
       "      <td>Antigua</td>\n",
       "      <td>35</td>\n",
       "      <td>Las Palmas</td>\n",
       "      <td>-14.013301</td>\n",
       "      <td>28.418966</td>\n",
       "    </tr>\n",
       "    <tr>\n",
       "      <th>2</th>\n",
       "      <td>2</td>\n",
       "      <td>3</td>\n",
       "      <td>Arrecife</td>\n",
       "      <td>58156.0</td>\n",
       "      <td>35004</td>\n",
       "      <td>Arrecife</td>\n",
       "      <td>35</td>\n",
       "      <td>Las Palmas</td>\n",
       "      <td>-13.551451</td>\n",
       "      <td>28.960649</td>\n",
       "    </tr>\n",
       "    <tr>\n",
       "      <th>3</th>\n",
       "      <td>3</td>\n",
       "      <td>4</td>\n",
       "      <td>Arucas</td>\n",
       "      <td>36745.0</td>\n",
       "      <td>35006</td>\n",
       "      <td>Arucas</td>\n",
       "      <td>35</td>\n",
       "      <td>Las Palmas</td>\n",
       "      <td>-15.521512</td>\n",
       "      <td>28.117496</td>\n",
       "    </tr>\n",
       "    <tr>\n",
       "      <th>4</th>\n",
       "      <td>4</td>\n",
       "      <td>5</td>\n",
       "      <td>Gáldar</td>\n",
       "      <td>24473.0</td>\n",
       "      <td>35009</td>\n",
       "      <td>Gáldar</td>\n",
       "      <td>35</td>\n",
       "      <td>Las Palmas</td>\n",
       "      <td>-15.654111</td>\n",
       "      <td>28.143873</td>\n",
       "    </tr>\n",
       "  </tbody>\n",
       "</table>\n",
       "</div>"
      ],
      "text/plain": [
       "   FID  OBJECTID     Texto  Poblacion  CodMun Municipio  CodProvin  \\\n",
       "0    0         1   Agüimes    29431.0   35002   Agüimes         35   \n",
       "1    1         2   Antigua    10458.0   35003   Antigua         35   \n",
       "2    2         3  Arrecife    58156.0   35004  Arrecife         35   \n",
       "3    3         4    Arucas    36745.0   35006    Arucas         35   \n",
       "4    4         5    Gáldar    24473.0   35009    Gáldar         35   \n",
       "\n",
       "    Provincia          X          Y  \n",
       "0  Las Palmas -15.446012  27.900542  \n",
       "1  Las Palmas -14.013301  28.418966  \n",
       "2  Las Palmas -13.551451  28.960649  \n",
       "3  Las Palmas -15.521512  28.117496  \n",
       "4  Las Palmas -15.654111  28.143873  "
      ]
     },
     "execution_count": 23,
     "metadata": {},
     "output_type": "execute_result"
    }
   ],
   "source": [
    "#Cargar Archivo CSV\n",
    "\n",
    "data = pd.read_csv('NucleosPoblacion.csv')\n",
    "\n",
    "data.head()"
   ]
  },
  {
   "cell_type": "markdown",
   "metadata": {},
   "source": [
    "¿Cuántos Municipios tienen más de 100000\n",
    " 1)\n",
    "a. b.\n",
    " habitantes?."
   ]
  },
  {
   "cell_type": "code",
   "execution_count": 24,
   "metadata": {},
   "outputs": [
    {
     "data": {
      "text/html": [
       "<div>\n",
       "<style scoped>\n",
       "    .dataframe tbody tr th:only-of-type {\n",
       "        vertical-align: middle;\n",
       "    }\n",
       "\n",
       "    .dataframe tbody tr th {\n",
       "        vertical-align: top;\n",
       "    }\n",
       "\n",
       "    .dataframe thead th {\n",
       "        text-align: right;\n",
       "    }\n",
       "</style>\n",
       "<table border=\"1\" class=\"dataframe\">\n",
       "  <thead>\n",
       "    <tr style=\"text-align: right;\">\n",
       "      <th></th>\n",
       "      <th>FID</th>\n",
       "      <th>OBJECTID</th>\n",
       "      <th>Texto</th>\n",
       "      <th>Poblacion</th>\n",
       "      <th>CodMun</th>\n",
       "      <th>Municipio</th>\n",
       "      <th>CodProvin</th>\n",
       "      <th>Provincia</th>\n",
       "      <th>X</th>\n",
       "      <th>Y</th>\n",
       "    </tr>\n",
       "  </thead>\n",
       "  <tbody>\n",
       "    <tr>\n",
       "      <th>9</th>\n",
       "      <td>9</td>\n",
       "      <td>10</td>\n",
       "      <td>Las Palmas de Gran Canaria</td>\n",
       "      <td>383308.0</td>\n",
       "      <td>35016</td>\n",
       "      <td>Las Palmas de Gran Canaria</td>\n",
       "      <td>35</td>\n",
       "      <td>Las Palmas</td>\n",
       "      <td>-15.413387</td>\n",
       "      <td>28.099775</td>\n",
       "    </tr>\n",
       "    <tr>\n",
       "      <th>16</th>\n",
       "      <td>16</td>\n",
       "      <td>17</td>\n",
       "      <td>Telde</td>\n",
       "      <td>100900.0</td>\n",
       "      <td>35026</td>\n",
       "      <td>Telde</td>\n",
       "      <td>35</td>\n",
       "      <td>Las Palmas</td>\n",
       "      <td>-15.416666</td>\n",
       "      <td>27.994202</td>\n",
       "    </tr>\n",
       "    <tr>\n",
       "      <th>28</th>\n",
       "      <td>28</td>\n",
       "      <td>29</td>\n",
       "      <td>San Cristóbal de La Laguna</td>\n",
       "      <td>152222.0</td>\n",
       "      <td>38023</td>\n",
       "      <td>San Cristóbal de La Laguna</td>\n",
       "      <td>38</td>\n",
       "      <td>Santa Cruz de Tenerife</td>\n",
       "      <td>-16.314721</td>\n",
       "      <td>28.487893</td>\n",
       "    </tr>\n",
       "    <tr>\n",
       "      <th>40</th>\n",
       "      <td>40</td>\n",
       "      <td>41</td>\n",
       "      <td>Santa Cruz de Tenerife</td>\n",
       "      <td>222643.0</td>\n",
       "      <td>38038</td>\n",
       "      <td>Santa Cruz de Tenerife</td>\n",
       "      <td>38</td>\n",
       "      <td>Santa Cruz de Tenerife</td>\n",
       "      <td>-16.247264</td>\n",
       "      <td>28.463257</td>\n",
       "    </tr>\n",
       "    <tr>\n",
       "      <th>42</th>\n",
       "      <td>42</td>\n",
       "      <td>43</td>\n",
       "      <td>Badajoz</td>\n",
       "      <td>150376.0</td>\n",
       "      <td>6015</td>\n",
       "      <td>Badajoz</td>\n",
       "      <td>6</td>\n",
       "      <td>Badajoz</td>\n",
       "      <td>-6.970997</td>\n",
       "      <td>38.878743</td>\n",
       "    </tr>\n",
       "    <tr>\n",
       "      <th>...</th>\n",
       "      <td>...</td>\n",
       "      <td>...</td>\n",
       "      <td>...</td>\n",
       "      <td>...</td>\n",
       "      <td>...</td>\n",
       "      <td>...</td>\n",
       "      <td>...</td>\n",
       "      <td>...</td>\n",
       "      <td>...</td>\n",
       "      <td>...</td>\n",
       "    </tr>\n",
       "    <tr>\n",
       "      <th>683</th>\n",
       "      <td>683</td>\n",
       "      <td>684</td>\n",
       "      <td>Santa Coloma de Gramenet</td>\n",
       "      <td>120060.0</td>\n",
       "      <td>8245</td>\n",
       "      <td>Santa Coloma de Gramenet</td>\n",
       "      <td>8</td>\n",
       "      <td>Barcelona</td>\n",
       "      <td>2.212155</td>\n",
       "      <td>41.453657</td>\n",
       "    </tr>\n",
       "    <tr>\n",
       "      <th>689</th>\n",
       "      <td>689</td>\n",
       "      <td>690</td>\n",
       "      <td>Terrassa</td>\n",
       "      <td>212724.0</td>\n",
       "      <td>8279</td>\n",
       "      <td>Terrassa</td>\n",
       "      <td>8</td>\n",
       "      <td>Barcelona</td>\n",
       "      <td>2.012151</td>\n",
       "      <td>41.562363</td>\n",
       "    </tr>\n",
       "    <tr>\n",
       "      <th>725</th>\n",
       "      <td>725</td>\n",
       "      <td>726</td>\n",
       "      <td>Lleida</td>\n",
       "      <td>137387.0</td>\n",
       "      <td>25120</td>\n",
       "      <td>Lleida</td>\n",
       "      <td>25</td>\n",
       "      <td>Lleida</td>\n",
       "      <td>0.620619</td>\n",
       "      <td>41.615274</td>\n",
       "    </tr>\n",
       "    <tr>\n",
       "      <th>735</th>\n",
       "      <td>735</td>\n",
       "      <td>736</td>\n",
       "      <td>Reus</td>\n",
       "      <td>106622.0</td>\n",
       "      <td>43123</td>\n",
       "      <td>Reus</td>\n",
       "      <td>43</td>\n",
       "      <td>Tarragona</td>\n",
       "      <td>1.109861</td>\n",
       "      <td>41.154107</td>\n",
       "    </tr>\n",
       "    <tr>\n",
       "      <th>737</th>\n",
       "      <td>737</td>\n",
       "      <td>738</td>\n",
       "      <td>Tarragona</td>\n",
       "      <td>140184.0</td>\n",
       "      <td>43148</td>\n",
       "      <td>Tarragona</td>\n",
       "      <td>43</td>\n",
       "      <td>Tarragona</td>\n",
       "      <td>1.258422</td>\n",
       "      <td>41.119103</td>\n",
       "    </tr>\n",
       "  </tbody>\n",
       "</table>\n",
       "<p>62 rows × 10 columns</p>\n",
       "</div>"
      ],
      "text/plain": [
       "     FID  OBJECTID                       Texto  Poblacion  CodMun  \\\n",
       "9      9        10  Las Palmas de Gran Canaria   383308.0   35016   \n",
       "16    16        17                       Telde   100900.0   35026   \n",
       "28    28        29  San Cristóbal de La Laguna   152222.0   38023   \n",
       "40    40        41      Santa Cruz de Tenerife   222643.0   38038   \n",
       "42    42        43                     Badajoz   150376.0    6015   \n",
       "..   ...       ...                         ...        ...     ...   \n",
       "683  683       684    Santa Coloma de Gramenet   120060.0    8245   \n",
       "689  689       690                    Terrassa   212724.0    8279   \n",
       "725  725       726                      Lleida   137387.0   25120   \n",
       "735  735       736                        Reus   106622.0   43123   \n",
       "737  737       738                   Tarragona   140184.0   43148   \n",
       "\n",
       "                      Municipio  CodProvin               Provincia          X  \\\n",
       "9    Las Palmas de Gran Canaria         35              Las Palmas -15.413387   \n",
       "16                        Telde         35              Las Palmas -15.416666   \n",
       "28   San Cristóbal de La Laguna         38  Santa Cruz de Tenerife -16.314721   \n",
       "40       Santa Cruz de Tenerife         38  Santa Cruz de Tenerife -16.247264   \n",
       "42                      Badajoz          6                 Badajoz  -6.970997   \n",
       "..                          ...        ...                     ...        ...   \n",
       "683    Santa Coloma de Gramenet          8               Barcelona   2.212155   \n",
       "689                    Terrassa          8               Barcelona   2.012151   \n",
       "725                      Lleida         25                  Lleida   0.620619   \n",
       "735                        Reus         43               Tarragona   1.109861   \n",
       "737                   Tarragona         43               Tarragona   1.258422   \n",
       "\n",
       "             Y  \n",
       "9    28.099775  \n",
       "16   27.994202  \n",
       "28   28.487893  \n",
       "40   28.463257  \n",
       "42   38.878743  \n",
       "..         ...  \n",
       "683  41.453657  \n",
       "689  41.562363  \n",
       "725  41.615274  \n",
       "735  41.154107  \n",
       "737  41.119103  \n",
       "\n",
       "[62 rows x 10 columns]"
      ]
     },
     "execution_count": 24,
     "metadata": {},
     "output_type": "execute_result"
    }
   ],
   "source": [
    "# Municipios con mas de 100000 habitantes\n",
    "\n",
    "data[data['Poblacion'] > 100000]"
   ]
  },
  {
   "cell_type": "markdown",
   "metadata": {},
   "source": [
    " 2) Realice una gráfica de barras sobre la polbación de cada ciudad, ordenela de menor a mayo y responda"
   ]
  },
  {
   "cell_type": "code",
   "execution_count": 28,
   "metadata": {},
   "outputs": [
    {
     "data": {
      "image/png": "[encoded data removed]",
      "text/plain": [
       "<Figure size 2000x500 with 1 Axes>"
      ]
     },
     "metadata": {},
     "output_type": "display_data"
    }
   ],
   "source": [
    "# gráfica de barras sobre la polbación de cada ciudad, ordenela de menor a mayor\n",
    "\n",
    "# Top 10\n",
    "\n",
    "data = data.sort_values('Poblacion', ascending=False)\n",
    "plt.figure(figsize=(20, 5))     \n",
    "plt.bar(data['Municipio'][:20], data['Poblacion'][:20])\n",
    "plt.xticks(rotation=90)\n",
    "plt.show()\n"
   ]
  },
  {
   "cell_type": "code",
   "execution_count": 19,
   "metadata": {},
   "outputs": [
    {
     "data": {
      "text/html": [
       "<div>\n",
       "<style scoped>\n",
       "    .dataframe tbody tr th:only-of-type {\n",
       "        vertical-align: middle;\n",
       "    }\n",
       "\n",
       "    .dataframe tbody tr th {\n",
       "        vertical-align: top;\n",
       "    }\n",
       "\n",
       "    .dataframe thead th {\n",
       "        text-align: right;\n",
       "    }\n",
       "</style>\n",
       "<table border=\"1\" class=\"dataframe\">\n",
       "  <thead>\n",
       "    <tr style=\"text-align: right;\">\n",
       "      <th></th>\n",
       "      <th>FID</th>\n",
       "      <th>OBJECTID</th>\n",
       "      <th>Texto</th>\n",
       "      <th>Poblacion</th>\n",
       "      <th>CodMun</th>\n",
       "      <th>Municipio</th>\n",
       "      <th>CodProvin</th>\n",
       "      <th>Provincia</th>\n",
       "      <th>X</th>\n",
       "      <th>Y</th>\n",
       "    </tr>\n",
       "  </thead>\n",
       "  <tbody>\n",
       "    <tr>\n",
       "      <th>17</th>\n",
       "      <td>272</td>\n",
       "      <td>273</td>\n",
       "      <td>Granada</td>\n",
       "      <td>239154.0</td>\n",
       "      <td>18087</td>\n",
       "      <td>Granada</td>\n",
       "      <td>18</td>\n",
       "      <td>Granada</td>\n",
       "      <td>-3.600019</td>\n",
       "      <td>37.176419</td>\n",
       "    </tr>\n",
       "  </tbody>\n",
       "</table>\n",
       "</div>"
      ],
      "text/plain": [
       "    FID  OBJECTID    Texto  Poblacion  CodMun Municipio  CodProvin Provincia  \\\n",
       "17  272       273  Granada   239154.0   18087   Granada         18   Granada   \n",
       "\n",
       "           X          Y  \n",
       "17 -3.600019  37.176419  "
      ]
     },
     "execution_count": 19,
     "metadata": {},
     "output_type": "execute_result"
    }
   ],
   "source": [
    "# Que posicion ocupa Granada ordenada por población \n",
    "\n",
    "data = data.sort_values('Poblacion', ascending=False)\n",
    "\n",
    "data.reset_index(drop=True)\n",
    "\n",
    "data   = data[data['Municipio'] == 'Granada']\n",
    "    \n",
    "data\n",
    "\n",
    "#Lugar 17"
   ]
  },
  {
   "cell_type": "markdown",
   "metadata": {},
   "source": [
    "3) ¿Cuántos municipios de La Rioja tienen más de 20,000 habitantes?."
   ]
  },
  {
   "cell_type": "code",
   "execution_count": 32,
   "metadata": {},
   "outputs": [
    {
     "data": {
      "text/html": [
       "<div>\n",
       "<style scoped>\n",
       "    .dataframe tbody tr th:only-of-type {\n",
       "        vertical-align: middle;\n",
       "    }\n",
       "\n",
       "    .dataframe tbody tr th {\n",
       "        vertical-align: top;\n",
       "    }\n",
       "\n",
       "    .dataframe thead th {\n",
       "        text-align: right;\n",
       "    }\n",
       "</style>\n",
       "<table border=\"1\" class=\"dataframe\">\n",
       "  <thead>\n",
       "    <tr style=\"text-align: right;\">\n",
       "      <th></th>\n",
       "      <th>FID</th>\n",
       "      <th>OBJECTID</th>\n",
       "      <th>Texto</th>\n",
       "      <th>Poblacion</th>\n",
       "      <th>CodMun</th>\n",
       "      <th>Municipio</th>\n",
       "      <th>CodProvin</th>\n",
       "      <th>Provincia</th>\n",
       "      <th>X</th>\n",
       "      <th>Y</th>\n",
       "    </tr>\n",
       "  </thead>\n",
       "  <tbody>\n",
       "    <tr>\n",
       "      <th>332</th>\n",
       "      <td>332</td>\n",
       "      <td>333</td>\n",
       "      <td>Calahorra</td>\n",
       "      <td>24876.0</td>\n",
       "      <td>26036</td>\n",
       "      <td>Calahorra</td>\n",
       "      <td>26</td>\n",
       "      <td>La Rioja</td>\n",
       "      <td>-1.960974</td>\n",
       "      <td>42.301555</td>\n",
       "    </tr>\n",
       "    <tr>\n",
       "      <th>334</th>\n",
       "      <td>334</td>\n",
       "      <td>335</td>\n",
       "      <td>Logroño</td>\n",
       "      <td>152650.0</td>\n",
       "      <td>26089</td>\n",
       "      <td>Logroño</td>\n",
       "      <td>26</td>\n",
       "      <td>La Rioja</td>\n",
       "      <td>-2.445655</td>\n",
       "      <td>42.466449</td>\n",
       "    </tr>\n",
       "  </tbody>\n",
       "</table>\n",
       "</div>"
      ],
      "text/plain": [
       "     FID  OBJECTID      Texto  Poblacion  CodMun  Municipio  CodProvin  \\\n",
       "332  332       333  Calahorra    24876.0   26036  Calahorra         26   \n",
       "334  334       335    Logroño   152650.0   26089    Logroño         26   \n",
       "\n",
       "    Provincia         X          Y  \n",
       "332  La Rioja -1.960974  42.301555  \n",
       "334  La Rioja -2.445655  42.466449  "
      ]
     },
     "execution_count": 32,
     "metadata": {},
     "output_type": "execute_result"
    }
   ],
   "source": [
    "# cuantos municipios de la Riojo tienas mas de 20,000 Habitantes\n",
    "\n",
    "data = pd.read_csv('NucleosPoblacion.csv')\n",
    "\n",
    "data = data[data['Provincia'] == 'La Rioja']\n",
    "\n",
    "data = data[data['Poblacion'] > 20000]\n",
    "\n",
    "data"
   ]
  },
  {
   "cell_type": "markdown",
   "metadata": {},
   "source": [
    "4) ¿Cuál es el municipio situado más al Norte? (Usar el valor de la coordenada \"Y\" que representa la latitud en grados). Proporcione también la provincia a la que pertenece y su población."
   ]
  },
  {
   "cell_type": "code",
   "execution_count": 52,
   "metadata": {},
   "outputs": [
    {
     "data": {
      "text/html": [
       "<div>\n",
       "<style scoped>\n",
       "    .dataframe tbody tr th:only-of-type {\n",
       "        vertical-align: middle;\n",
       "    }\n",
       "\n",
       "    .dataframe tbody tr th {\n",
       "        vertical-align: top;\n",
       "    }\n",
       "\n",
       "    .dataframe thead th {\n",
       "        text-align: right;\n",
       "    }\n",
       "</style>\n",
       "<table border=\"1\" class=\"dataframe\">\n",
       "  <thead>\n",
       "    <tr style=\"text-align: right;\">\n",
       "      <th></th>\n",
       "      <th>FID</th>\n",
       "      <th>OBJECTID</th>\n",
       "      <th>Texto</th>\n",
       "      <th>Poblacion</th>\n",
       "      <th>CodMun</th>\n",
       "      <th>Municipio</th>\n",
       "      <th>CodProvin</th>\n",
       "      <th>Provincia</th>\n",
       "      <th>X</th>\n",
       "      <th>Y</th>\n",
       "    </tr>\n",
       "  </thead>\n",
       "  <tbody>\n",
       "    <tr>\n",
       "      <th>104</th>\n",
       "      <td>104</td>\n",
       "      <td>105</td>\n",
       "      <td>Viveiro</td>\n",
       "      <td>16211.0</td>\n",
       "      <td>27066</td>\n",
       "      <td>Viveiro</td>\n",
       "      <td>27</td>\n",
       "      <td>Lugo</td>\n",
       "      <td>-7.588768</td>\n",
       "      <td>43.625578</td>\n",
       "    </tr>\n",
       "    <tr>\n",
       "      <th>447</th>\n",
       "      <td>447</td>\n",
       "      <td>448</td>\n",
       "      <td>Lluanco/Luanco</td>\n",
       "      <td>10788.0</td>\n",
       "      <td>33025</td>\n",
       "      <td>Gozón</td>\n",
       "      <td>33</td>\n",
       "      <td>Asturias</td>\n",
       "      <td>-5.792773</td>\n",
       "      <td>43.614030</td>\n",
       "    </tr>\n",
       "    <tr>\n",
       "      <th>443</th>\n",
       "      <td>443</td>\n",
       "      <td>444</td>\n",
       "      <td>Candás</td>\n",
       "      <td>11000.0</td>\n",
       "      <td>33014</td>\n",
       "      <td>Carreño</td>\n",
       "      <td>33</td>\n",
       "      <td>Asturias</td>\n",
       "      <td>-5.767181</td>\n",
       "      <td>43.590199</td>\n",
       "    </tr>\n",
       "    <tr>\n",
       "      <th>444</th>\n",
       "      <td>444</td>\n",
       "      <td>445</td>\n",
       "      <td>Piedrasblancas</td>\n",
       "      <td>22832.0</td>\n",
       "      <td>33016</td>\n",
       "      <td>Castrillón</td>\n",
       "      <td>33</td>\n",
       "      <td>Asturias</td>\n",
       "      <td>-5.973899</td>\n",
       "      <td>43.559984</td>\n",
       "    </tr>\n",
       "    <tr>\n",
       "      <th>442</th>\n",
       "      <td>442</td>\n",
       "      <td>443</td>\n",
       "      <td>Avilés</td>\n",
       "      <td>84202.0</td>\n",
       "      <td>33004</td>\n",
       "      <td>Avilés</td>\n",
       "      <td>33</td>\n",
       "      <td>Asturias</td>\n",
       "      <td>-5.924790</td>\n",
       "      <td>43.558577</td>\n",
       "    </tr>\n",
       "    <tr>\n",
       "      <th>112</th>\n",
       "      <td>112</td>\n",
       "      <td>113</td>\n",
       "      <td>Luarca</td>\n",
       "      <td>13371.0</td>\n",
       "      <td>33034</td>\n",
       "      <td>Valdés</td>\n",
       "      <td>33</td>\n",
       "      <td>Asturias</td>\n",
       "      <td>-6.535122</td>\n",
       "      <td>43.544528</td>\n",
       "    </tr>\n",
       "    <tr>\n",
       "      <th>446</th>\n",
       "      <td>446</td>\n",
       "      <td>447</td>\n",
       "      <td>Gijón/Xixón</td>\n",
       "      <td>277198.0</td>\n",
       "      <td>33024</td>\n",
       "      <td>Gijón</td>\n",
       "      <td>33</td>\n",
       "      <td>Asturias</td>\n",
       "      <td>-5.659493</td>\n",
       "      <td>43.539202</td>\n",
       "    </tr>\n",
       "    <tr>\n",
       "      <th>445</th>\n",
       "      <td>445</td>\n",
       "      <td>446</td>\n",
       "      <td>Nubledo/Nubleo</td>\n",
       "      <td>16109.0</td>\n",
       "      <td>33020</td>\n",
       "      <td>Corvera de Asturias</td>\n",
       "      <td>33</td>\n",
       "      <td>Asturias</td>\n",
       "      <td>-5.870567</td>\n",
       "      <td>43.524297</td>\n",
       "    </tr>\n",
       "    <tr>\n",
       "      <th>72</th>\n",
       "      <td>72</td>\n",
       "      <td>73</td>\n",
       "      <td>Narón</td>\n",
       "      <td>38285.0</td>\n",
       "      <td>15054</td>\n",
       "      <td>Narón</td>\n",
       "      <td>15</td>\n",
       "      <td>A Coruña</td>\n",
       "      <td>-8.198888</td>\n",
       "      <td>43.497112</td>\n",
       "    </tr>\n",
       "    <tr>\n",
       "      <th>70</th>\n",
       "      <td>70</td>\n",
       "      <td>71</td>\n",
       "      <td>Ferrol</td>\n",
       "      <td>73638.0</td>\n",
       "      <td>15036</td>\n",
       "      <td>Ferrol</td>\n",
       "      <td>15</td>\n",
       "      <td>A Coruña</td>\n",
       "      <td>-8.234911</td>\n",
       "      <td>43.482015</td>\n",
       "    </tr>\n",
       "  </tbody>\n",
       "</table>\n",
       "</div>"
      ],
      "text/plain": [
       "     FID  OBJECTID           Texto  Poblacion  CodMun            Municipio  \\\n",
       "104  104       105         Viveiro    16211.0   27066              Viveiro   \n",
       "447  447       448  Lluanco/Luanco    10788.0   33025                Gozón   \n",
       "443  443       444          Candás    11000.0   33014              Carreño   \n",
       "444  444       445  Piedrasblancas    22832.0   33016           Castrillón   \n",
       "442  442       443          Avilés    84202.0   33004               Avilés   \n",
       "112  112       113          Luarca    13371.0   33034               Valdés   \n",
       "446  446       447     Gijón/Xixón   277198.0   33024                Gijón   \n",
       "445  445       446  Nubledo/Nubleo    16109.0   33020  Corvera de Asturias   \n",
       "72    72        73           Narón    38285.0   15054                Narón   \n",
       "70    70        71          Ferrol    73638.0   15036               Ferrol   \n",
       "\n",
       "     CodProvin Provincia         X          Y  \n",
       "104         27      Lugo -7.588768  43.625578  \n",
       "447         33  Asturias -5.792773  43.614030  \n",
       "443         33  Asturias -5.767181  43.590199  \n",
       "444         33  Asturias -5.973899  43.559984  \n",
       "442         33  Asturias -5.924790  43.558577  \n",
       "112         33  Asturias -6.535122  43.544528  \n",
       "446         33  Asturias -5.659493  43.539202  \n",
       "445         33  Asturias -5.870567  43.524297  \n",
       "72          15  A Coruña -8.198888  43.497112  \n",
       "70          15  A Coruña -8.234911  43.482015  "
      ]
     },
     "execution_count": 52,
     "metadata": {},
     "output_type": "execute_result"
    }
   ],
   "source": [
    "#Cuál es el municipio situado más al Norte?\n",
    "\n",
    "data = pd.read_csv('NucleosPoblacion.csv')\n",
    "\n",
    "#data.head()\n",
    "\n",
    "data = data.sort_values('Y', ascending=False)\n",
    "\n",
    "data.head(10)\n",
    "        "
   ]
  },
  {
   "cell_type": "markdown",
   "metadata": {},
   "source": [
    "5) Obtenga la media, mediana, desviación estándar, valor máximo y valor mínimo de la población de los municipios de la provincia de Granada"
   ]
  },
  {
   "cell_type": "code",
   "execution_count": 54,
   "metadata": {},
   "outputs": [
    {
     "name": "stdout",
     "output_type": "stream",
     "text": [
      "Media: 30217.85\n",
      "Mediana: 17526.0\n",
      "Desviación estándar: 50355.49171459277\n",
      "Valor máximo: 239154.0\n",
      "Valor mínimo: 10386.0\n"
     ]
    }
   ],
   "source": [
    "#Obtenga la media, mediana, desviación estándar, \n",
    "# valor máximo y valor mínimo de la población de los municipios de la provincia de Granada\n",
    "\n",
    "data = pd.read_csv('NucleosPoblacion.csv')\n",
    "\n",
    "data = data[data['Provincia'] == 'Granada']        \n",
    "\n",
    "print('Media:', data['Poblacion'].mean())\n",
    "print('Mediana:', data['Poblacion'].median())\n",
    "print('Desviación estándar:', data['Poblacion'].std())\n",
    "print('Valor máximo:', data['Poblacion'].max())\n",
    "print('Valor mínimo:', data['Poblacion'].min())         \n",
    "\n",
    "    "
   ]
  },
  {
   "cell_type": "markdown",
   "metadata": {},
   "source": [
    " 6) Realice un histograma con la población de los\n",
    "Municipios para cada una de las provincias"
   ]
  },
  {
   "cell_type": "code",
   "execution_count": 58,
   "metadata": {},
   "outputs": [
    {
     "data": {
      "image/png": "[encoded data removed]",
      "text/plain": [
       "<Figure size 2000x500 with 1 Axes>"
      ]
     },
     "metadata": {},
     "output_type": "display_data"
    }
   ],
   "source": [
    "# Histograma de la población de los municipios para cada una de las provincias\n",
    "\n",
    "data = pd.read_csv('NucleosPoblacion.csv')\n",
    "\n",
    "data = data.groupby('Provincia')['Poblacion'].sum()\n",
    "data = data.sort_values(ascending=False)\n",
    "data.plot(kind='bar', figsize=(20, 5))\n",
    "plt.xticks(rotation=90 )\n",
    "plt.show()  \n",
    "\n"
   ]
  },
  {
   "cell_type": "markdown",
   "metadata": {},
   "source": [
    "7) Seleccione al azar cincuenta municipios diferentes de entre los diponibles en el archivo. Asegúrese de que no se repitan. ¿Luego calcule el promedio de la población y la desviación estándar de esto 50 municipios?."
   ]
  },
  {
   "cell_type": "code",
   "execution_count": 63,
   "metadata": {},
   "outputs": [
    {
     "name": "stdout",
     "output_type": "stream",
     "text": [
      "Promedio: 34365.7\n",
      "Desviación estándar: 39812.21360964497\n"
     ]
    }
   ],
   "source": [
    "# Seleccione al azar cincuenta municipios diferentes de entre los diponibles en el archivo. Asegúrese de que no se repitan. ¿Luego calcule el promedio de la población y la desviación estándar de esto 50 municipios?.\n",
    "\n",
    "data = pd.read_csv('NucleosPoblacion.csv')\n",
    "\n",
    "data = data.sample(50)\n",
    " \n",
    "print('Promedio:', data['Poblacion'].mean())\n",
    "print('Desviación estándar:', data['Poblacion'].std())\n",
    "\n",
    "\n"
   ]
  },
  {
   "cell_type": "markdown",
   "metadata": {},
   "source": [
    ") Dígame los nombres de los Municipios más cercano y más lejano a Madrid. Para ello debe calcular la distancia en todos ellos y Madrid. No considere a Madrid en el análisis ya que la distancia sería cero"
   ]
  },
  {
   "cell_type": "code",
   "execution_count": 64,
   "metadata": {},
   "outputs": [
    {
     "name": "stdout",
     "output_type": "stream",
     "text": [
      "Municipio más cercano: Pozuelo de Alarcón\n",
      "Municipio más lejano: Los Llanos de Aridane\n"
     ]
    }
   ],
   "source": [
    "# nombres de los Municipios más cercano y más lejano a Madrid. Para ello debe calcular la distancia en todos ellos y Madrid. No considere a Madrid en el análisis ya que la distancia sería cero\n",
    "\n",
    "data = pd.read_csv('NucleosPoblacion.csv')\n",
    "\n",
    "madrid = data[data['Municipio'] == 'Madrid']\n",
    "data = data[data['Municipio'] != 'Madrid']\n",
    "\n",
    "data['Distancia'] = np.sqrt((madrid['X'].values - data['X'].values)**2 + (madrid['Y'].values - data['Y'].values)**2)\n",
    "\n",
    "data = data.sort_values('Distancia')\n",
    "\n",
    "print('Municipio más cercano:', data['Municipio'].iloc[0])\n",
    "print('Municipio más lejano:', data['Municipio'].iloc[-1])\n",
    "\n",
    "\n",
    "                                                                    "
   ]
  }
 ],
 "metadata": {
  "kernelspec": {
   "display_name": "base",
   "language": "python",
   "name": "python3"
  },
  "language_info": {
   "codemirror_mode": {
    "name": "ipython",
    "version": 3
   },
   "file_extension": ".py",
   "mimetype": "text/x-python",
   "name": "python",
   "nbconvert_exporter": "python",
   "pygments_lexer": "ipython3",
   "version": "3.12.7"
  }
 },
 "nbformat": 4,
 "nbformat_minor": 2
}
